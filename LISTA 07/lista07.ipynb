{
 "cells": [
  {
   "cell_type": "code",
   "execution_count": null,
   "id": "b003b705",
   "metadata": {},
   "outputs": [],
   "source": [
    "#01\n",
    "\n",
    "def triplo(num):\n",
    "  \n",
    "    return num*3\n",
    "\n",
    "\n",
    "num=int(input(\"Digite um número: \"))\n",
    "\n",
    "print(\"O triplo dele é: \",triplo(num) )"
   ]
  },
  {
   "cell_type": "code",
   "execution_count": 1,
   "id": "a29b7daf",
   "metadata": {},
   "outputs": [
    {
     "name": "stdout",
     "output_type": "stream",
     "text": [
      "14\n"
     ]
    }
   ],
   "source": [
    "def area(h,c):\n",
    "    return h*c \n",
    "\n",
    "\n",
    "altura=int(input(\"Digite a altura: \"))\n",
    "comprimento=int(input(\"Digite o comprimento: \"))\n",
    "\n",
    "print(area(altura,comprimento))"
   ]
  }
 ],
 "metadata": {
  "kernelspec": {
   "display_name": "Python 3",
   "language": "python",
   "name": "python3"
  },
  "language_info": {
   "codemirror_mode": {
    "name": "ipython",
    "version": 3
   },
   "file_extension": ".py",
   "mimetype": "text/x-python",
   "name": "python",
   "nbconvert_exporter": "python",
   "pygments_lexer": "ipython3",
   "version": "3.11.9"
  }
 },
 "nbformat": 4,
 "nbformat_minor": 5
}
