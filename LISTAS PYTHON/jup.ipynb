{
 "cells": [
  {
   "cell_type": "code",
   "execution_count": null,
   "id": "3992d741",
   "metadata": {},
   "outputs": [
    {
     "name": "stdout",
     "output_type": "stream",
     "text": [
      "Os números digitados foram: [6]\n"
     ]
    }
   ],
   "source": [
    "numeros = []  \n",
    "for i in range(5):\n",
    "    n = int(input(f\"Digite o {i+1}º número inteiro: \"))\n",
    "    numeros.append(n)\n",
    "print(\"Os números digitados foram:\", numeros)\n"
   ]
  },
  {
   "cell_type": "code",
   "execution_count": null,
   "id": "6aa23d39",
   "metadata": {},
   "outputs": [],
   "source": [
    "numeros_10 = []\n",
    "for i in range (10):\n",
    "    numero = int(input(f\"Digite o número {i+1}: \"))\n",
    "    numeros_10.append(numero)\n",
    "\n",
    "numeros_10.sort(reverse=True)\n",
    "print(f\"Os números na ordem invertida são:\",numeros_10)\n"
   ]
  },
  {
   "cell_type": "code",
   "execution_count": null,
   "id": "175bebec",
   "metadata": {},
   "outputs": [],
   "source": [
    "notas = []\n",
    "for i in range(4):\n",
    "    n = float(input(f\"Digite a {i+1}ª nota: \"))\n",
    "    notas.append(n)\n",
    "\n",
    "\n",
    "media = sum(notas) / len(notas)\n",
    "\n",
    "\n",
    "print(\"Notas:\", notas)\n",
    "print(\"Média:\", media)\n"
   ]
  },
  {
   "cell_type": "code",
   "execution_count": null,
   "id": "cbdfdf16",
   "metadata": {},
   "outputs": [],
   "source": [
    "numeros = []\n",
    "pares = []\n",
    "impares = []\n",
    "\n",
    "\n",
    "for numero in range(1, 21):\n",
    "    numeros.append(numero)\n",
    "    if numero % 2 == 0:\n",
    "        pares.append(numero)\n",
    "    else:\n",
    "        impares.append(numero)\n",
    "\n",
    "\n",
    "print(f\"lista dos numero {numeros}\")\n",
    "print(f\"lista dos pares {pares}\")\n",
    "print(f\"lista dos impares {impares}\")\n"
   ]
  },
  {
   "cell_type": "code",
   "execution_count": null,
   "id": "b1d0dc52",
   "metadata": {},
   "outputs": [],
   "source": [
    "medias = []\n",
    "for i in range(10):\n",
    "    print(f\"Aluno {i+1}:\")\n"
   ]
  },
  {
   "cell_type": "code",
   "execution_count": null,
   "id": "5a71e9ed",
   "metadata": {},
   "outputs": [],
   "source": [
    "notas = []\n",
    "for j in range(4):\n",
    "    nota= float(input(f\"Digite a nota {j+1}:\"))\n",
    "    notas.append(nota)\n",
    "    media = sum(notas)/4\n",
    "    medias.append(media)\n",
    "\n",
    "\n",
    "        # conta-se quantos possuem média maior ou igual a 7\n",
    "    aprovados = 0\n",
    "    for media in medias:\n",
    "        if media >= 7:\n",
    "            aprovados +=1\n",
    "\n",
    "\n",
    "print(\"Número de alunos com média maior ou igual a7.0:\", aprovados)\n"
   ]
  },
  {
   "cell_type": "code",
   "execution_count": null,
   "id": "bd42659f",
   "metadata": {},
   "outputs": [],
   "source": [
    "num=[]\n",
    "mult=1\n",
    "for i in range(4):\n",
    "    numero=int(input(\"Digite um numero: \"))\n",
    "    num.append(numero)\n",
    "    mult*=numero\n",
    "soma=sum(num)\n",
    "print(f\"Números: {num}\")\n",
    "print(f\"Soma:{soma}\")\n",
    "print(f\"Multiplicação:{mult}\")\n"
   ]
  },
  {
   "cell_type": "code",
   "execution_count": null,
   "id": "d2237f60",
   "metadata": {},
   "outputs": [],
   "source": [
    "idades = []\n",
    "alturas = []\n",
    "for i in range(10):\n",
    "    print(\"Pessoa\", i + 1)\n",
    "    idade = int(input(\"Digite a idade: \"))\n",
    "    altura = float(input(\"Digite a altura (em metros): \"))\n",
    "    idades.append(idade)\n",
    "    alturas.append(altura)\n",
    "maior_altura = max(alturas)\n",
    "indice = alturas.index(maior_altura)\n",
    "print(\"A maior altura foi: \", maior_altura)\n",
    "print(\"A idade mais alta foi: \", idades[indice])\n",
    "\n",
    "\n"
   ]
  },
  {
   "cell_type": "code",
   "execution_count": null,
   "id": "2e5e8b9c",
   "metadata": {},
   "outputs": [],
   "source": [
    "A = []\n",
    "for i in range(10):\n",
    "    num = int(input(f\"Digite o {i+1}º número: \"))\n",
    "    A.append(num)\n",
    "# Calculando a soma dos quadrados\n",
    "soma_quadrados = 0\n",
    "for num in A:\n",
    "    soma_quadrados += num ** 2\n",
    "# Mostrando o resultado\n",
    "print(\"A soma dos quadrados dos elementos é:\", soma_quadrados)\n"
   ]
  },
  {
   "cell_type": "code",
   "execution_count": null,
   "id": "c03aa865",
   "metadata": {},
   "outputs": [],
   "source": [
    "# Lendo as duas listas\n",
    "lista1 = []\n",
    "lista2 = []\n",
    "\n",
    "print(\"Digite os 10 elementos da primeira lista:\")\n",
    "for i in range(10):\n",
    "    valor = int(input(f\"Elemento {i+1}: \"))\n",
    "    lista1.append(valor)\n",
    "\n",
    "print(\"\\nDigite os 10 elementos da segunda lista:\")\n",
    "for i in range(10):\n",
    "    valor = int(input(f\"Elemento {i+1}: \"))\n",
    "    lista2.append(valor)\n",
    "\n",
    "# Gerando a lista intercalada\n",
    "lista3 = []\n",
    "for i in range(10):\n",
    "    lista3.append(lista1[i])  # Pega um elemento da primeira lista\n",
    "    lista3.append(lista2[i])  # Pega um elemento da segunda lista\n",
    "\n",
    "# Exibindo o resultado\n",
    "print(\"\\nPrimeira lista:\", lista1)\n",
    "print(\"Segunda lista:\", lista2)\n",
    "print(\"Lista intercalada:\", lista3)\n"
   ]
  }
 ],
 "metadata": {
  "kernelspec": {
   "display_name": "Python 3",
   "language": "python",
   "name": "python3"
  },
  "language_info": {
   "codemirror_mode": {
    "name": "ipython",
    "version": 3
   },
   "file_extension": ".py",
   "mimetype": "text/x-python",
   "name": "python",
   "nbconvert_exporter": "python",
   "pygments_lexer": "ipython3",
   "version": "3.11.9"
  }
 },
 "nbformat": 4,
 "nbformat_minor": 5
}
