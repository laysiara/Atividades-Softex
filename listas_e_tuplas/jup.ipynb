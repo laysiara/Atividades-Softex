{
 "cells": [
  {
   "cell_type": "code",
   "execution_count": null,
   "id": "a09888bc",
   "metadata": {},
   "outputs": [],
   "source": [
    "lista = [1, 2, 3, 4, 5]\n",
    "print(lista)\n"
   ]
  },
  {
   "cell_type": "code",
   "execution_count": null,
   "id": "b539a484",
   "metadata": {},
   "outputs": [],
   "source": [
    "cores = [\"azul\", \"verde\", \"vermelho\", \"amarelo\"]\n",
    "print(\"Segunda cor:\", cores[1])\n",
    "print(\"Última cor:\", cores[-1])\n"
   ]
  },
  {
   "cell_type": "code",
   "execution_count": null,
   "id": "8b423c1d",
   "metadata": {},
   "outputs": [],
   "source": [
    "frutas = [\"maçã\", \"banana\", \"uva\"]\n",
    "frutas[1] = \"abacaxi\"\n",
    "print(frutas)\n"
   ]
  },
  {
   "cell_type": "code",
   "execution_count": null,
   "id": "e3cbbe2b",
   "metadata": {},
   "outputs": [],
   "source": [
    "numeros = []\n",
    "for i in range(5):\n",
    "    n = int(input(\"Digite um número: \"))\n",
    "    numeros.append(n)\n",
    "print(\"Lista final:\", numeros)\n"
   ]
  },
  {
   "cell_type": "code",
   "execution_count": null,
   "id": "13a9c95a",
   "metadata": {},
   "outputs": [],
   "source": [
    "valores = [8, 3, 10, 1, 7]\n",
    "valores.sort()\n",
    "print(valores)\n"
   ]
  },
  {
   "cell_type": "code",
   "execution_count": null,
   "id": "793b6196",
   "metadata": {},
   "outputs": [],
   "source": [
    "numeros = []\n",
    "for i in range(5):\n",
    "    n = int(input(\"Digite um número: \"))\n",
    "    numeros.append(n)\n",
    "print(\"Soma =\", sum(numeros))\n"
   ]
  },
  {
   "cell_type": "code",
   "execution_count": null,
   "id": "598145f8",
   "metadata": {},
   "outputs": [],
   "source": [
    "lista = [10, 5, 22, 1, 7]\n",
    "print(\"Maior:\", max(lista))\n",
    "print(\"Menor:\", min(lista))\n"
   ]
  },
  {
   "cell_type": "code",
   "execution_count": null,
   "id": "552e8267",
   "metadata": {},
   "outputs": [],
   "source": [
    "\n",
    "letras = [\"a\", \"b\", \"a\", \"c\", \"a\", \"d\"]\n",
    "print(\"Quantidade de 'a':\", letras.count(\"a\"))\n"
   ]
  },
  {
   "cell_type": "code",
   "execution_count": null,
   "id": "a92297fe",
   "metadata": {},
   "outputs": [],
   "source": [
    "numeros = [2, 4, 6, 8, 10]\n",
    "numeros.remove(6)\n",
    "print(numeros)\n"
   ]
  },
  {
   "cell_type": "code",
   "execution_count": null,
   "id": "1ebddc06",
   "metadata": {},
   "outputs": [],
   "source": [
    "numeros = [2, 4, 6, 8, 6, 10]\n",
    "\n",
    "while 6 in numeros:\n",
    "    numeros.remove(6)\n",
    "\n",
    "print(numeros)\n"
   ]
  },
  {
   "cell_type": "code",
   "execution_count": 2,
   "id": "29ee8bfd",
   "metadata": {},
   "outputs": [
    {
     "name": "stdout",
     "output_type": "stream",
     "text": [
      "[2, 4, 6]\n"
     ]
    }
   ],
   "source": [
    "pares=[]\n",
    "n=int(input(\"Digite um número: \"))\n",
    "\n",
    "for i in range(1,n+1):\n",
    "    if i%2==0:\n",
    "        pares.append(i)\n",
    "\n",
    "print(pares)"
   ]
  },
  {
   "cell_type": "code",
   "execution_count": null,
   "id": "c79ba6ba",
   "metadata": {},
   "outputs": [],
   "source": [
    "dias = (\"segunda\", \"terça\", \"quarta\", \"quinta\", \"sexta\", \"sábado\", \"domingo\")\n",
    "print(\"Terceiro dia:\", dias[2])\n"
   ]
  },
  {
   "cell_type": "code",
   "execution_count": null,
   "id": "70bd638d",
   "metadata": {},
   "outputs": [],
   "source": [
    "t = (1, 2, 3)\n",
    "# t[0] = 10  # Isso gera erro: TypeError: 'tuple' object does not support item assignment\n",
    "print(\"Tuplas não podem ter seus elementos alterados.\")\n"
   ]
  },
  {
   "cell_type": "code",
   "execution_count": null,
   "id": "d0abbfd2",
   "metadata": {},
   "outputs": [],
   "source": [
    "lista=[\"iara\",\"lays\",\"santos\",\"ramos\",\"araujo\"]\n",
    "\n",
    "tupla=tuple(lista)\n",
    "\n",
    "print(lista)\n",
    "print(tupla)"
   ]
  },
  {
   "cell_type": "code",
   "execution_count": null,
   "id": "be3f5627",
   "metadata": {},
   "outputs": [],
   "source": [
    "t = (5, 10, 15, 20)\n",
    "print(\"Soma:\", sum(t))\n"
   ]
  },
  {
   "cell_type": "code",
   "execution_count": null,
   "id": "d1456fc7",
   "metadata": {},
   "outputs": [],
   "source": [
    "tupla = (2, 4, 6, 8, 10)\n",
    "num = int(input(\"Digite um número: \"))\n",
    "if num in tupla:\n",
    "    print(num, \"está na tupla.\")\n",
    "else:\n",
    "    print(num, \"não está na tupla.\")\n"
   ]
  }
 ],
 "metadata": {
  "kernelspec": {
   "display_name": "Python 3",
   "language": "python",
   "name": "python3"
  },
  "language_info": {
   "codemirror_mode": {
    "name": "ipython",
    "version": 3
   },
   "file_extension": ".py",
   "mimetype": "text/x-python",
   "name": "python",
   "nbconvert_exporter": "python",
   "pygments_lexer": "ipython3",
   "version": "3.11.9"
  }
 },
 "nbformat": 4,
 "nbformat_minor": 5
}
