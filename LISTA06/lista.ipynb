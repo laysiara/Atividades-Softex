{
 "cells": [
  {
   "cell_type": "code",
   "execution_count": 1,
   "id": "76c4aa14",
   "metadata": {},
   "outputs": [
    {
     "name": "stdout",
     "output_type": "stream",
     "text": [
      "['Anne with an e', 'Harry Potter', 'Alaska']\n"
     ]
    }
   ],
   "source": [
    "livros=[\"Anne with an e\", \"Harry Potter\", \"Alaska\"]\n",
    "\n",
    "print(livros)"
   ]
  },
  {
   "cell_type": "code",
   "execution_count": 2,
   "id": "66d1a1f3",
   "metadata": {},
   "outputs": [
    {
     "name": "stdout",
     "output_type": "stream",
     "text": [
      "Primeiro:  Anne with an e\n",
      "Útimo: Alaska\n"
     ]
    }
   ],
   "source": [
    "livros=[\"Anne with an e\", \"Harry Potter\", \"Alaska\"]\n",
    "\n",
    "print(\"Primeiro: \",livros[0])\n",
    "print(f\"Útimo: {livros[-1]}\")"
   ]
  },
  {
   "cell_type": "code",
   "execution_count": 3,
   "id": "c22c3b7e",
   "metadata": {},
   "outputs": [
    {
     "name": "stdout",
     "output_type": "stream",
     "text": [
      "['Anne with an e', 'Harry Potter', 'Alaska', 'Alice no país das maravilhas', 'Cinderela']\n"
     ]
    }
   ],
   "source": [
    "livros=[\"Anne with an e\", \"Harry Potter\", \"Alaska\"]\n",
    "\n",
    "livros.append(\"Alice no país das maravilhas\")\n",
    "livros.append(\"Cinderela\")\n",
    "\n",
    "print(livros)"
   ]
  },
  {
   "cell_type": "code",
   "execution_count": 5,
   "id": "21d06e1d",
   "metadata": {},
   "outputs": [
    {
     "name": "stdout",
     "output_type": "stream",
     "text": [
      "['Anne with an e', 'Duna', 'Harry Potter', 'Alaska']\n"
     ]
    }
   ],
   "source": [
    "livros=[\"Anne with an e\", \"Harry Potter\", \"Alaska\"]\n",
    "\n",
    "livros.insert(1,\"Duna\")\n",
    "\n",
    "print(livros)"
   ]
  },
  {
   "cell_type": "code",
   "execution_count": 6,
   "id": "9d9cc01c",
   "metadata": {},
   "outputs": [
    {
     "name": "stdout",
     "output_type": "stream",
     "text": [
      "Livro não encontrado\n"
     ]
    }
   ],
   "source": [
    "livros=[\"Anne with an e\", \"Harry Potter\", \"Alaska\"]\n",
    "removido=0\n",
    "for elemento in livros:\n",
    "    if elemento == \"Silêncio dos inocentes\":\n",
    "        livros.remove(elemento)\n",
    "        removido+=1\n",
    "\n",
    "if removido<1:\n",
    "    print(\"Livro não encontrado\")\n",
    "    \n"
   ]
  },
  {
   "cell_type": "code",
   "execution_count": 7,
   "id": "559f835f",
   "metadata": {},
   "outputs": [
    {
     "name": "stdout",
     "output_type": "stream",
     "text": [
      "3\n"
     ]
    }
   ],
   "source": [
    "valores=[1,2,3,2,4,2,5]\n",
    "\n",
    "dois=valores.count(2)\n",
    "\n",
    "print(dois)"
   ]
  },
  {
   "cell_type": "code",
   "execution_count": 9,
   "id": "66bef888",
   "metadata": {},
   "outputs": [
    {
     "name": "stdout",
     "output_type": "stream",
     "text": [
      "O livro Anne with an e é interessante\n",
      "O livro Harry Potter é interessante\n",
      "O livro Alaska é interessante\n"
     ]
    }
   ],
   "source": [
    "livros=[\"Anne with an e\", \"Harry Potter\", \"Alaska\"]\n",
    "\n",
    "for i in range(len(livros)):\n",
    "    print(f\"O livro {livros[i]} é interessante\")"
   ]
  },
  {
   "cell_type": "code",
   "execution_count": 10,
   "id": "5d5bc28e",
   "metadata": {},
   "outputs": [
    {
     "name": "stdout",
     "output_type": "stream",
     "text": [
      "18\n",
      "25\n",
      "30\n"
     ]
    }
   ],
   "source": [
    "idades=[12,18,25,14,30]\n",
    "\n",
    "for i in range (len(idades)):\n",
    "    if idades[i]>=18:\n",
    "        print(idades[i])"
   ]
  },
  {
   "cell_type": "code",
   "execution_count": 12,
   "id": "9a7d7046",
   "metadata": {},
   "outputs": [
    {
     "name": "stdout",
     "output_type": "stream",
     "text": [
      "100\n"
     ]
    }
   ],
   "source": [
    "valores=[10,20,30,40]\n",
    "soma=0\n",
    "for i in range(len(valores)):\n",
    "    numero=valores[i]\n",
    "    soma+=numero\n",
    "\n",
    "\n",
    "print(soma)"
   ]
  },
  {
   "cell_type": "code",
   "execution_count": 20,
   "id": "451d6293",
   "metadata": {},
   "outputs": [
    {
     "name": "stdout",
     "output_type": "stream",
     "text": [
      "[[3, 4, 6], 4.333333333333333, [7, 8, 6], 7.0]\n"
     ]
    }
   ],
   "source": [
    "notas=[]\n",
    "\n",
    "for i in range(2):\n",
    "    nota=[]\n",
    "    media=0\n",
    "    for i in range(3):\n",
    "        \n",
    "        nota1=int(input(\"Digite a nota do aluno: \"))\n",
    "        nota.append(nota1)\n",
    "    \n",
    "    notas.append(nota)\n",
    "\n",
    "    media=sum(nota)/3\n",
    "    notas.append(media)\n",
    "\n",
    "print(notas)"
   ]
  },
  {
   "cell_type": "code",
   "execution_count": 51,
   "id": "7b48b4b3",
   "metadata": {},
   "outputs": [
    {
     "name": "stdout",
     "output_type": "stream",
     "text": [
      "['tor', 'cav', 'bis', 'rai', 'rei', 'bis', 'cav', 'tor']\n",
      "['pea', 'pea', 'pea', 'pea', 'pea', 'pea', 'pea', 'pea']\n",
      "['   ', '   ', '   ', '   ', '   ', '   ', '   ', '   ']\n",
      "['   ', '   ', '   ', '   ', '   ', '   ', '   ', '   ']\n",
      "['   ', '   ', '   ', '   ', '   ', '   ', '   ', '   ']\n",
      "['   ', '   ', '   ', '   ', '   ', '   ', '   ', '   ']\n",
      "['pea', 'pea', 'pea', 'pea', 'pea', 'pea', 'pea', 'pea']\n",
      "['tor', 'cav', 'bis', 'rai', 'rei', 'bis', 'cav', 'tor']\n"
     ]
    }
   ],
   "source": [
    "\n",
    "listão=[]\n",
    "for i in range(8):\n",
    "    lista=[]\n",
    " \n",
    "    if i<1 or i==7:\n",
    "        lista.append(\"tor\")\n",
    "        lista.append(\"cav\")\n",
    "        lista.append(\"bis\")\n",
    "        lista.append(\"rai\")\n",
    "        lista.append(\"rei\")\n",
    "        lista.append(\"bis\")\n",
    "        lista.append(\"cav\")\n",
    "        lista.append(\"tor\")\n",
    "\n",
    "    elif i==1 or i==6:\n",
    "        for i in range(8):\n",
    "            lista.append(\"pea\")\n",
    "\n",
    "    else:\n",
    "        for i in range(8):\n",
    "            lista.append(\"   \")\n",
    "\n",
    "    listão.append(lista)\n",
    "for element in listão:\n",
    "    print(element)\n",
    "\n",
    "\n"
   ]
  },
  {
   "cell_type": "code",
   "execution_count": null,
   "id": "93ec46ac",
   "metadata": {},
   "outputs": [
    {
     "name": "stdout",
     "output_type": "stream",
     "text": [
      "['tor', 'cav', '   ', '   ', '   ', '   ', '   ', '   ']\n",
      "['   ', '   ', '   ', '   ', '   ', '   ', '   ', '   ']\n",
      "['   ', '   ', '   ', '   ', '   ', '   ', '   ', '   ']\n",
      "['   ', '   ', '   ', '   ', '   ', '   ', '   ', '   ']\n",
      "['   ', '   ', '   ', '   ', '   ', '   ', '   ', '   ']\n",
      "['   ', '   ', '   ', '   ', '   ', '   ', '   ', '   ']\n",
      "['   ', '   ', '   ', '   ', '   ', '   ', '   ', '   ']\n",
      "['tor', 'cav', '   ', '   ', '   ', '   ', '   ', '   ']\n"
     ]
    }
   ],
   "source": [
    "listao=[]\n",
    "\n",
    "for i in range(8):\n",
    "    lista=[]\n",
    "    for j in range(8):\n",
    "        if i==0 and j ==0 or i==7 and j==0:\n",
    "            lista.append(\"tor\")\n",
    "        elif i==0 and j ==1 or i==7 and j==1:\n",
    "            lista.append(\"cav\")\n",
    "        else:\n",
    "                lista.append(\"   \")\n",
    "\n",
    "    listao.append(lista)\n",
    "\n",
    "for element in listao:\n",
    "    print(element)\n"
   ]
  }
 ],
 "metadata": {
  "kernelspec": {
   "display_name": "Python 3",
   "language": "python",
   "name": "python3"
  },
  "language_info": {
   "codemirror_mode": {
    "name": "ipython",
    "version": 3
   },
   "file_extension": ".py",
   "mimetype": "text/x-python",
   "name": "python",
   "nbconvert_exporter": "python",
   "pygments_lexer": "ipython3",
   "version": "3.11.9"
  }
 },
 "nbformat": 4,
 "nbformat_minor": 5
}
